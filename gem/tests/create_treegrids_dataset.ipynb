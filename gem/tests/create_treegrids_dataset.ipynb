{
 "cells": [
  {
   "cell_type": "markdown",
   "metadata": {},
   "source": [
    "# Tree Grids Dataset"
   ]
  },
  {
   "cell_type": "code",
   "execution_count": 1,
   "metadata": {},
   "outputs": [],
   "source": [
    "import os\n",
    "import pickle\n",
    "import sys\n",
    "\n",
    "import torch\n",
    "\n",
    "sys.path.append(\"../gnnexp\")\n",
    "from models import GCNSynthetic"
   ]
  },
  {
   "cell_type": "markdown",
   "metadata": {},
   "source": [
    "## Data"
   ]
  },
  {
   "cell_type": "code",
   "execution_count": 2,
   "metadata": {},
   "outputs": [],
   "source": [
    "filename = \"../../cfgnnexplainer/data/gnn_explainer/syn5.pickle\"\n",
    "with open(filename, \"rb\") as file:\n",
    "    treegrids_cfgnn = pickle.load(file)"
   ]
  },
  {
   "cell_type": "code",
   "execution_count": 3,
   "metadata": {},
   "outputs": [
    {
     "name": "stdout",
     "output_type": "stream",
     "text": [
      "adj       : <class 'numpy.ndarray'>\n",
      "feat      : <class 'numpy.ndarray'>\n",
      "labels    : <class 'numpy.ndarray'>\n",
      "train_idx : <class 'list'>\n",
      "test_idx  : <class 'list'>\n"
     ]
    }
   ],
   "source": [
    "for key, val in treegrids_cfgnn.items():\n",
    "    print(f\"{key:<10}: {type(val)}\")"
   ]
  },
  {
   "cell_type": "markdown",
   "metadata": {},
   "source": [
    "## Model"
   ]
  },
  {
   "cell_type": "code",
   "execution_count": 4,
   "metadata": {},
   "outputs": [],
   "source": [
    "model = GCNSynthetic(\n",
    "    nfeat=10,\n",
    "    nhid=20,\n",
    "    nout=20,\n",
    "    nclass=2,\n",
    "    dropout=0.0\n",
    ")"
   ]
  },
  {
   "cell_type": "code",
   "execution_count": 5,
   "metadata": {},
   "outputs": [
    {
     "data": {
      "text/plain": [
       "GCNSynthetic(\n",
       "  (gc1): GraphConvolution (10 -> 20)\n",
       "  (gc2): GraphConvolution (20 -> 20)\n",
       "  (gc3): GraphConvolution (20 -> 20)\n",
       "  (lin): Linear(in_features=60, out_features=2, bias=True)\n",
       ")"
      ]
     },
     "execution_count": 5,
     "metadata": {},
     "output_type": "execute_result"
    }
   ],
   "source": [
    "state_dict = torch.load(\"../cfgnn_model_weights/gcn_3layer_syn5.pt\")\n",
    "model.load_state_dict(state_dict)\n",
    "model.eval()"
   ]
  },
  {
   "cell_type": "markdown",
   "metadata": {},
   "source": [
    "## Predictions"
   ]
  },
  {
   "cell_type": "code",
   "execution_count": 6,
   "metadata": {},
   "outputs": [],
   "source": [
    "feat = torch.from_numpy(treegrids_cfgnn['feat']).float()\n",
    "adj = torch.from_numpy(treegrids_cfgnn['adj']).float()\n",
    "preds = model(feat, adj).detach().numpy()"
   ]
  },
  {
   "cell_type": "markdown",
   "metadata": {},
   "source": [
    "## Checkpoint"
   ]
  },
  {
   "cell_type": "code",
   "execution_count": 7,
   "metadata": {},
   "outputs": [],
   "source": [
    "ckpt_bashapes = torch.load(\"../data/syn1/eval_as_eval.pt\")\n",
    "bashapes = ckpt_bashapes['cg']"
   ]
  },
  {
   "cell_type": "code",
   "execution_count": 8,
   "metadata": {},
   "outputs": [],
   "source": [
    "ckpt_treegrids = ckpt_bashapes.copy()\n",
    "ckpt_treegrids['model_state'] = state_dict\n",
    "ckpt_treegrids['cg'] = treegrids_cfgnn.copy()\n",
    "ckpt_treegrids['cg']['pred'] = preds # This key is missing in treegrids_cfgnn.\n",
    "ckpt_treegrids['cg']['label'] = ckpt_treegrids['cg'].pop('labels') # Key mismatch."
   ]
  },
  {
   "cell_type": "markdown",
   "metadata": {},
   "source": [
    "## Eval set"
   ]
  },
  {
   "cell_type": "code",
   "execution_count": 9,
   "metadata": {},
   "outputs": [],
   "source": [
    "with open(\"../../eval_set.pkl\", \"rb\") as file:\n",
    "    eval_set = pickle.load(file)\n",
    "KEY = \"syn5/tree-grid\""
   ]
  },
  {
   "cell_type": "markdown",
   "metadata": {},
   "source": [
    "### Our eval set as part of the training set"
   ]
  },
  {
   "cell_type": "code",
   "execution_count": 10,
   "metadata": {},
   "outputs": [
    {
     "data": {
      "text/plain": [
       "dict_keys(['adj', 'feat', 'labels', 'train_idx', 'test_idx'])"
      ]
     },
     "execution_count": 10,
     "metadata": {},
     "output_type": "execute_result"
    }
   ],
   "source": [
    "treegrids_cfgnn.keys()"
   ]
  },
  {
   "cell_type": "code",
   "execution_count": 11,
   "metadata": {},
   "outputs": [],
   "source": [
    "train_set_indices = [range(treegrids_cfgnn['labels'].shape[1])]\n",
    "test_set_indices = eval_set[KEY]"
   ]
  },
  {
   "cell_type": "code",
   "execution_count": 12,
   "metadata": {},
   "outputs": [],
   "source": [
    "ckpt_treegrids[\"cg\"][\"train_idx\"] = train_set_indices\n",
    "ckpt_treegrids[\"cg\"][\"test_idx\"] = test_set_indices"
   ]
  },
  {
   "cell_type": "code",
   "execution_count": 13,
   "metadata": {},
   "outputs": [],
   "source": [
    "os.makedirs(f\"../data/syn5\", exist_ok=True)\n",
    "torch.save(ckpt_treegrids, f\"../data/syn5/eval_as_train.pt\")"
   ]
  },
  {
   "cell_type": "markdown",
   "metadata": {},
   "source": [
    "### Our eval set as the validation set"
   ]
  },
  {
   "cell_type": "code",
   "execution_count": 14,
   "metadata": {},
   "outputs": [],
   "source": [
    "train_set_indices = [i for i in range(treegrids_cfgnn['labels'].shape[1]) if i not in eval_set[KEY]]\n",
    "test_set_indices = eval_set[KEY]"
   ]
  },
  {
   "cell_type": "code",
   "execution_count": 15,
   "metadata": {},
   "outputs": [],
   "source": [
    "ckpt_treegrids[\"cg\"][\"train_idx\"] = train_set_indices\n",
    "ckpt_treegrids[\"cg\"][\"test_idx\"] = test_set_indices"
   ]
  },
  {
   "cell_type": "code",
   "execution_count": 16,
   "metadata": {},
   "outputs": [],
   "source": [
    "os.makedirs(f\"../data/syn5\", exist_ok=True)\n",
    "torch.save(ckpt_treegrids, f\"../data/syn5/eval_as_eval.pt\")"
   ]
  },
  {
   "cell_type": "markdown",
   "metadata": {},
   "source": [
    "## Rough"
   ]
  },
  {
   "cell_type": "code",
   "execution_count": 17,
   "metadata": {},
   "outputs": [],
   "source": [
    "for k1, k2 in zip(\n",
    "    sorted(list(ckpt_treegrids['cg'])),\n",
    "    sorted(list(ckpt_bashapes['cg']))\n",
    "):\n",
    "    if k1 != k2:\n",
    "        print(\"MISMATCH!\")\n",
    "        print(k1, k2)"
   ]
  },
  {
   "cell_type": "code",
   "execution_count": 18,
   "metadata": {},
   "outputs": [],
   "source": [
    "import numpy as np\n",
    "labels = ckpt_treegrids['cg']['label']\n",
    "preds = np.argmax(ckpt_treegrids['cg']['pred'], axis=-1)"
   ]
  },
  {
   "cell_type": "code",
   "execution_count": 19,
   "metadata": {},
   "outputs": [
    {
     "name": "stdout",
     "output_type": "stream",
     "text": [
      "Accuracy: 84.97 %\n"
     ]
    }
   ],
   "source": [
    "acc = np.sum(labels == preds)/labels.shape[1]\n",
    "print(f\"Accuracy: {100 * acc :.2f} %\")"
   ]
  },
  {
   "cell_type": "code",
   "execution_count": null,
   "metadata": {},
   "outputs": [],
   "source": []
  }
 ],
 "metadata": {
  "kernelspec": {
   "display_name": "Python 3.8.13 ('gem')",
   "language": "python",
   "name": "python3"
  },
  "language_info": {
   "codemirror_mode": {
    "name": "ipython",
    "version": 3
   },
   "file_extension": ".py",
   "mimetype": "text/x-python",
   "name": "python",
   "nbconvert_exporter": "python",
   "pygments_lexer": "ipython3",
   "version": "3.8.13"
  },
  "orig_nbformat": 4,
  "vscode": {
   "interpreter": {
    "hash": "6cbbe528126ce4ff858253ebeac4791d5498c577849f0c2b8ed17d9a06b9b755"
   }
  }
 },
 "nbformat": 4,
 "nbformat_minor": 2
}
