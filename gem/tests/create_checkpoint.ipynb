{
 "cells": [
  {
   "cell_type": "markdown",
   "metadata": {},
   "source": [
    "# Create Checkpoint"
   ]
  },
  {
   "cell_type": "code",
   "execution_count": null,
   "metadata": {},
   "outputs": [],
   "source": [
    "import os\n",
    "import pickle\n",
    "import sys\n",
    "\n",
    "import torch\n",
    "\n",
    "sys.path.append(\"../gnnexp\")\n",
    "from models import GCNSynthetic"
   ]
  },
  {
   "cell_type": "code",
   "execution_count": null,
   "metadata": {},
   "outputs": [],
   "source": [
    "DATASET = \"syn1\""
   ]
  },
  {
   "cell_type": "markdown",
   "metadata": {},
   "source": [
    "## Data"
   ]
  },
  {
   "cell_type": "code",
   "execution_count": null,
   "metadata": {},
   "outputs": [],
   "source": [
    "with torch.no_grad():\n",
    "    ckpt = torch.load(f\"../ckpt/{DATASET}_base_h20_o20.pth.tar\")\n",
    "    cg_dict = ckpt[\"cg\"] # Get the graph data.\n",
    "    input_dim = cg_dict[\"feat\"].shape[2]\n",
    "    adj = cg_dict[\"adj\"][0]\n",
    "    label = cg_dict[\"label\"][0]\n",
    "    features = torch.tensor(cg_dict[\"feat\"][0], dtype=torch.float)\n",
    "    num_class = max(label)+1"
   ]
  },
  {
   "cell_type": "code",
   "execution_count": null,
   "metadata": {},
   "outputs": [],
   "source": [
    "with open(F\"prog_args_{DATASET}.pkl\", \"rb\") as file:\n",
    "    prog_args = pickle.load(file)"
   ]
  },
  {
   "cell_type": "code",
   "execution_count": null,
   "metadata": {},
   "outputs": [],
   "source": [
    "print(f'{\"KEY\":<10}: {\"OBJECT\":<25}: {\"TYPE\":<15}: SHAPE/LEN\\n')\n",
    "for key, val in ckpt['cg'].items():\n",
    "    try:\n",
    "        print(f\"{key:<10}: {str(type(val)):<25}: {str(val.dtype):<15}: {val.shape}\")\n",
    "    except: # object doesn't have method named \"shape\"\n",
    "        print(f\"{key:<10}: {str(type(val)):<25}: {str(type(val[0])):<15}: {len(val)}\")"
   ]
  },
  {
   "cell_type": "markdown",
   "metadata": {},
   "source": [
    "## Model"
   ]
  },
  {
   "cell_type": "code",
   "execution_count": null,
   "metadata": {},
   "outputs": [],
   "source": [
    "model = GCNSynthetic(\n",
    "    nfeat=input_dim,\n",
    "    nhid=prog_args.hidden_dim,\n",
    "    nout=prog_args.output_dim,\n",
    "    nclass=num_class,\n",
    "    dropout=0.0,\n",
    ")"
   ]
  },
  {
   "cell_type": "code",
   "execution_count": null,
   "metadata": {},
   "outputs": [],
   "source": [
    "# CFGNN model weights\n",
    "state_dict_cfgnn = torch.load(f\"../cfgnn_model_weights/gcn_3layer_{DATASET}.pt\")\n",
    "# for key, val in state_dict_cfgnn.items():\n",
    "#     print(f\"{key:<10} : {val.size()}\")"
   ]
  },
  {
   "cell_type": "markdown",
   "metadata": {},
   "source": [
    "## Preds"
   ]
  },
  {
   "cell_type": "code",
   "execution_count": null,
   "metadata": {},
   "outputs": [],
   "source": [
    "model.load_state_dict(state_dict_cfgnn)\n",
    "model.eval()\n",
    "preds = model(\n",
    "    torch.from_numpy(cg_dict['feat']).float(),\n",
    "    torch.from_numpy(cg_dict['adj']).float()\n",
    ")"
   ]
  },
  {
   "cell_type": "code",
   "execution_count": null,
   "metadata": {},
   "outputs": [],
   "source": [
    "cg_dict['pred'] = preds.detach().numpy()"
   ]
  },
  {
   "cell_type": "markdown",
   "metadata": {},
   "source": [
    "## Eval set"
   ]
  },
  {
   "cell_type": "code",
   "execution_count": null,
   "metadata": {},
   "outputs": [],
   "source": [
    "with open(\"../../eval_set.pkl\", \"rb\") as file:\n",
    "    eval_set = pickle.load(file)\n",
    "print(eval_set.keys())"
   ]
  },
  {
   "cell_type": "code",
   "execution_count": null,
   "metadata": {},
   "outputs": [],
   "source": [
    "if DATASET == \"syn1\":\n",
    "    KEY = \"syn1/ba-shapes\"\n",
    "elif DATASET == \"syn4\":\n",
    "    KEY = \"syn4/tree-cycles\""
   ]
  },
  {
   "cell_type": "markdown",
   "metadata": {},
   "source": [
    "### Our eval set as part of the training set"
   ]
  },
  {
   "cell_type": "code",
   "execution_count": null,
   "metadata": {},
   "outputs": [],
   "source": [
    "train_set_indices = [i for i in range(label.shape[0])]\n",
    "test_set_indices = list(set(eval_set[KEY]))"
   ]
  },
  {
   "cell_type": "code",
   "execution_count": null,
   "metadata": {},
   "outputs": [],
   "source": [
    "ckpt[\"cg\"][\"train_idx\"] = train_set_indices\n",
    "ckpt[\"cg\"][\"test_idx\"] = test_set_indices\n",
    "ckpt[\"model_state\"] = state_dict_cfgnn"
   ]
  },
  {
   "cell_type": "code",
   "execution_count": null,
   "metadata": {},
   "outputs": [],
   "source": [
    "os.makedirs(f\"../data/{DATASET}\", exist_ok=True)\n",
    "torch.save(ckpt, f\"../data/{DATASET}/eval_as_train.pt\")"
   ]
  },
  {
   "cell_type": "markdown",
   "metadata": {},
   "source": [
    "### Our eval set as the validation set"
   ]
  },
  {
   "cell_type": "code",
   "execution_count": null,
   "metadata": {},
   "outputs": [],
   "source": [
    "train_set_indices = [i for i in range(label.shape[0]) if i not in eval_set[KEY]]\n",
    "test_set_indices = list(set(eval_set[KEY]))"
   ]
  },
  {
   "cell_type": "code",
   "execution_count": null,
   "metadata": {},
   "outputs": [],
   "source": [
    "ckpt[\"cg\"][\"train_idx\"] = train_set_indices\n",
    "ckpt[\"cg\"][\"test_idx\"] = test_set_indices\n",
    "ckpt[\"model_state\"] = state_dict_cfgnn"
   ]
  },
  {
   "cell_type": "code",
   "execution_count": null,
   "metadata": {},
   "outputs": [],
   "source": [
    "os.makedirs(f\"../data/{DATASET}\", exist_ok=True)\n",
    "torch.save(ckpt, f\"../data/{DATASET}/eval_as_eval.pt\")"
   ]
  },
  {
   "cell_type": "markdown",
   "metadata": {},
   "source": [
    "## Rough"
   ]
  },
  {
   "cell_type": "code",
   "execution_count": null,
   "metadata": {},
   "outputs": [],
   "source": []
  }
 ],
 "metadata": {
  "kernelspec": {
   "display_name": "Python 3.8.13 ('gem')",
   "language": "python",
   "name": "python3"
  },
  "language_info": {
   "codemirror_mode": {
    "name": "ipython",
    "version": 3
   },
   "file_extension": ".py",
   "mimetype": "text/x-python",
   "name": "python",
   "nbconvert_exporter": "python",
   "pygments_lexer": "ipython3",
   "version": "3.8.13"
  },
  "orig_nbformat": 4,
  "vscode": {
   "interpreter": {
    "hash": "6cbbe528126ce4ff858253ebeac4791d5498c577849f0c2b8ed17d9a06b9b755"
   }
  }
 },
 "nbformat": 4,
 "nbformat_minor": 2
}
