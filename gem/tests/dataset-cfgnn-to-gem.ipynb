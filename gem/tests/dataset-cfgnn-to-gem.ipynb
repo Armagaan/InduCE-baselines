{
 "cells": [
  {
   "attachments": {},
   "cell_type": "markdown",
   "metadata": {},
   "source": [
    "# Dataset: CFGNN to GEM"
   ]
  },
  {
   "cell_type": "code",
   "execution_count": 1,
   "metadata": {},
   "outputs": [],
   "source": [
    "import pickle\n",
    "import torch\n",
    "import numpy as np"
   ]
  },
  {
   "attachments": {},
   "cell_type": "markdown",
   "metadata": {},
   "source": [
    "## CFGNN"
   ]
  },
  {
   "cell_type": "code",
   "execution_count": 2,
   "metadata": {},
   "outputs": [],
   "source": [
    "path = \"/home/graphAttack/armagaan/code/rough/small_amazon/small_amazon.pickle\"\n",
    "with open(path, \"rb\") as file:\n",
    "    data = pickle.load(file)"
   ]
  },
  {
   "cell_type": "code",
   "execution_count": 3,
   "metadata": {},
   "outputs": [
    {
     "data": {
      "text/plain": [
       "dict_keys(['adj', 'feat', 'labels', 'train_idx', 'test_idx'])"
      ]
     },
     "execution_count": 3,
     "metadata": {},
     "output_type": "execute_result"
    }
   ],
   "source": [
    "data.keys()"
   ]
  },
  {
   "cell_type": "code",
   "execution_count": 4,
   "metadata": {},
   "outputs": [
    {
     "name": "stdout",
     "output_type": "stream",
     "text": [
      "adj : <class 'numpy.ndarray'>, (1, 7650, 7650)\n",
      "feat : <class 'numpy.ndarray'>, (1, 7650, 745)\n",
      "labels : <class 'numpy.ndarray'>, (1, 7650)\n",
      "train_idx : <class 'list'>, 305\n",
      "test_idx : <class 'list'>, 300\n"
     ]
    }
   ],
   "source": [
    "for key, val in data.items():\n",
    "    print(key, \":\", type(val), end=\", \")\n",
    "    try:\n",
    "        print(val.shape)\n",
    "    except:\n",
    "        print(len(val))"
   ]
  },
  {
   "attachments": {},
   "cell_type": "markdown",
   "metadata": {},
   "source": [
    "## GEM"
   ]
  },
  {
   "cell_type": "code",
   "execution_count": 5,
   "metadata": {},
   "outputs": [],
   "source": [
    "# gem style dataset\n",
    "syn5 = torch.load(\"../data/syn5/eval_as_eval.pt\")"
   ]
  },
  {
   "cell_type": "code",
   "execution_count": 6,
   "metadata": {},
   "outputs": [
    {
     "data": {
      "text/plain": [
       "dict_keys(['epoch', 'model_type', 'optimizer', 'model_state', 'optimizer_state', 'cg'])"
      ]
     },
     "execution_count": 6,
     "metadata": {},
     "output_type": "execute_result"
    }
   ],
   "source": [
    "syn5.keys()"
   ]
  },
  {
   "cell_type": "code",
   "execution_count": 7,
   "metadata": {},
   "outputs": [
    {
     "data": {
      "text/plain": [
       "odict_keys(['gc1.weight', 'gc1.bias', 'gc2.weight', 'gc2.bias', 'gc3.weight', 'gc3.bias', 'lin.weight', 'lin.bias'])"
      ]
     },
     "execution_count": 7,
     "metadata": {},
     "output_type": "execute_result"
    }
   ],
   "source": [
    "syn5[\"model_state\"].keys()"
   ]
  },
  {
   "cell_type": "code",
   "execution_count": 8,
   "metadata": {},
   "outputs": [
    {
     "data": {
      "text/plain": [
       "dict_keys(['adj', 'feat', 'train_idx', 'test_idx', 'pred', 'label'])"
      ]
     },
     "execution_count": 8,
     "metadata": {},
     "output_type": "execute_result"
    }
   ],
   "source": [
    "syn5[\"cg\"].keys()"
   ]
  },
  {
   "cell_type": "code",
   "execution_count": 9,
   "metadata": {},
   "outputs": [
    {
     "name": "stdout",
     "output_type": "stream",
     "text": [
      "adj : <class 'numpy.ndarray'>, (1, 1231, 1231)\n",
      "feat : <class 'numpy.ndarray'>, (1, 1231, 10)\n",
      "train_idx : <class 'list'>, 1102\n",
      "test_idx : <class 'list'>, 129\n",
      "pred : <class 'numpy.ndarray'>, (1, 1231, 2)\n",
      "label : <class 'numpy.ndarray'>, (1, 1231)\n"
     ]
    }
   ],
   "source": [
    "for key, val in syn5[\"cg\"].items():\n",
    "    print(key, \":\", type(val), end=\", \")\n",
    "    try:\n",
    "        print(val.shape)\n",
    "    except:\n",
    "        print(len(val))"
   ]
  },
  {
   "attachments": {},
   "cell_type": "markdown",
   "metadata": {},
   "source": [
    "## New Checkpoint"
   ]
  },
  {
   "cell_type": "code",
   "execution_count": 10,
   "metadata": {},
   "outputs": [],
   "source": [
    "adj = data[\"adj\"]\n",
    "feat = data[\"feat\"]\n",
    "label = data[\"labels\"]\n",
    "# eval as eval\n",
    "train_idx = data[\"train_idx\"]\n",
    "test_idx = data[\"test_idx\"]"
   ]
  },
  {
   "cell_type": "code",
   "execution_count": 11,
   "metadata": {},
   "outputs": [],
   "source": [
    "from copy import deepcopy\n",
    "new_ckpt = deepcopy(syn5)\n",
    "\n",
    "new_ckpt[\"cg\"][\"adj\"] = adj\n",
    "new_ckpt[\"cg\"][\"feat\"] = feat\n",
    "new_ckpt[\"cg\"][\"train_idx\"] = train_idx\n",
    "new_ckpt[\"cg\"][\"test_idx\"] = test_idx\n",
    "new_ckpt[\"cg\"][\"label\"] = label"
   ]
  },
  {
   "cell_type": "code",
   "execution_count": 12,
   "metadata": {},
   "outputs": [
    {
     "data": {
      "text/plain": [
       "<All keys matched successfully>"
      ]
     },
     "execution_count": 12,
     "metadata": {},
     "output_type": "execute_result"
    }
   ],
   "source": [
    "import sys\n",
    "sys.path.append(\"../gnnexp/\")\n",
    "from models import GCNSynthetic\n",
    "\n",
    "model = GCNSynthetic(\n",
    "    nfeat=feat.shape[-1],\n",
    "    nhid=128, # change according to blackbox\n",
    "    nout=128, # change according to blackbox\n",
    "    nclass=8, # change according to dataset\n",
    "    dropout=0.2,\n",
    "    device=\"cpu\"\n",
    ")\n",
    "\n",
    "weights = torch.load(\"../cfgnn_model_weights/gcn_3layer_small_amazon.pt\")\n",
    "model.load_state_dict(weights)"
   ]
  },
  {
   "cell_type": "code",
   "execution_count": 13,
   "metadata": {},
   "outputs": [],
   "source": [
    "feat = torch.from_numpy(feat).float()\n",
    "adj = torch.from_numpy(adj).float()\n",
    "label = torch.tensor(label).long()\n",
    "model.eval()\n",
    "pred = model(feat, adj)\n",
    "pred = pred.detach().numpy()"
   ]
  },
  {
   "cell_type": "code",
   "execution_count": 14,
   "metadata": {},
   "outputs": [],
   "source": [
    "new_ckpt[\"cg\"][\"pred\"] = pred\n",
    "new_ckpt[\"model_state\"] = weights"
   ]
  },
  {
   "cell_type": "code",
   "execution_count": 15,
   "metadata": {},
   "outputs": [],
   "source": [
    "torch.save(obj=new_ckpt, f=\"../data/small_amazon/eval_as_eval.pt\")"
   ]
  },
  {
   "cell_type": "code",
   "execution_count": null,
   "metadata": {},
   "outputs": [],
   "source": []
  }
 ],
 "metadata": {
  "kernelspec": {
   "display_name": "gem",
   "language": "python",
   "name": "python3"
  },
  "language_info": {
   "codemirror_mode": {
    "name": "ipython",
    "version": 3
   },
   "file_extension": ".py",
   "mimetype": "text/x-python",
   "name": "python",
   "nbconvert_exporter": "python",
   "pygments_lexer": "ipython3",
   "version": "3.10.5"
  },
  "orig_nbformat": 4,
  "vscode": {
   "interpreter": {
    "hash": "56ee92302c564015799b368264fd0dd7aee0d85f72bb82027dcd74bb921e31b9"
   }
  }
 },
 "nbformat": 4,
 "nbformat_minor": 2
}
