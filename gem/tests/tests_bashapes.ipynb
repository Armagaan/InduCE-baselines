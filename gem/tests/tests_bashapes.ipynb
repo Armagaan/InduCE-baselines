{
 "cells": [
  {
   "cell_type": "markdown",
   "metadata": {},
   "source": [
    "# Baselines"
   ]
  },
  {
   "cell_type": "code",
   "execution_count": 23,
   "metadata": {},
   "outputs": [],
   "source": [
    "from collections import defaultdict\n",
    "import os\n",
    "import pickle\n",
    "import sys\n",
    "\n",
    "import pandas as pd\n",
    "import torch\n",
    "\n",
    "sys.path.append(\"../gnnexp\")\n",
    "from models import GCNSynthetic"
   ]
  },
  {
   "cell_type": "code",
   "execution_count": 2,
   "metadata": {},
   "outputs": [],
   "source": [
    "DATASET = 'syn1'\n",
    "EVAL = 'eval'"
   ]
  },
  {
   "cell_type": "markdown",
   "metadata": {},
   "source": [
    "## Data"
   ]
  },
  {
   "cell_type": "code",
   "execution_count": 4,
   "metadata": {},
   "outputs": [],
   "source": [
    "# Extracted subadjacency matrices.\n",
    "if DATASET == 'syn1':\n",
    "    with open(\"../output/syn1/1657970490/original_sub_data.pkl\", \"rb\") as file:\n",
    "        sub_data = pickle.load(file)\n",
    "elif DATASET == 'syn4':\n",
    "    with open(\"../output/syn4/1657890667/original_sub_data.pkl\", \"rb\") as file:\n",
    "        sub_data = pickle.load(file)"
   ]
  },
  {
   "cell_type": "code",
   "execution_count": 5,
   "metadata": {},
   "outputs": [],
   "source": [
    "sub_labels = dict()\n",
    "for node in sub_data:\n",
    "    new_idx = sub_data[node]['node_idx_new']\n",
    "    sub_labels[node] = int(sub_data[node]['sub_label'][new_idx])"
   ]
  },
  {
   "cell_type": "code",
   "execution_count": 6,
   "metadata": {},
   "outputs": [],
   "source": [
    "explanations = dict()\n",
    "PATH = f\"../explanation/{DATASET}_top6\"\n",
    "for filename in os.listdir(PATH):\n",
    "    if 'label' not in filename:\n",
    "        continue\n",
    "    explanations[int(filename[4:7])] = pd.read_csv(f\"{PATH}/{filename}\", header=None).to_numpy()"
   ]
  },
  {
   "cell_type": "markdown",
   "metadata": {},
   "source": [
    "## Model"
   ]
  },
  {
   "cell_type": "code",
   "execution_count": 13,
   "metadata": {},
   "outputs": [],
   "source": [
    "ckpt = torch.load(f\"../data/{DATASET}/eval_as_{EVAL}.pt\")\n",
    "cg_dict = ckpt[\"cg\"]\n",
    "input_dim = cg_dict[\"feat\"].shape[2] \n",
    "num_classes = cg_dict[\"pred\"].shape[2]\n",
    "feat = torch.from_numpy(cg_dict[\"feat\"]).float()\n",
    "adj = torch.from_numpy(cg_dict[\"adj\"]).float()\n",
    "label = torch.from_numpy(cg_dict[\"label\"]).long()"
   ]
  },
  {
   "cell_type": "code",
   "execution_count": 14,
   "metadata": {},
   "outputs": [],
   "source": [
    "with open(f\"prog_args_{DATASET}.pkl\", \"rb\") as file:\n",
    "    prog_args = pickle.load(file)"
   ]
  },
  {
   "cell_type": "code",
   "execution_count": 15,
   "metadata": {},
   "outputs": [
    {
     "data": {
      "text/plain": [
       "GCNSynthetic(\n",
       "  (gc1): GraphConvolution (10 -> 20)\n",
       "  (gc2): GraphConvolution (20 -> 20)\n",
       "  (gc3): GraphConvolution (20 -> 20)\n",
       "  (lin): Linear(in_features=60, out_features=4, bias=True)\n",
       ")"
      ]
     },
     "execution_count": 15,
     "metadata": {},
     "output_type": "execute_result"
    }
   ],
   "source": [
    "model = GCNSynthetic(\n",
    "    nfeat=input_dim,\n",
    "    nhid=prog_args.hidden_dim,\n",
    "    nout=prog_args.output_dim,\n",
    "    nclass=num_classes,\n",
    "    dropout=0.0,\n",
    ")\n",
    "model.load_state_dict(ckpt[\"model_state\"])\n",
    "model.eval()"
   ]
  },
  {
   "cell_type": "markdown",
   "metadata": {},
   "source": [
    "## Predictions"
   ]
  },
  {
   "cell_type": "code",
   "execution_count": 16,
   "metadata": {},
   "outputs": [],
   "source": [
    "predictions = dict()\n",
    "for node in explanations:\n",
    "    sub_adj = sub_data[node]['org_adj'] - torch.Tensor(explanations[node]).unsqueeze(0)\n",
    "    new_idx = sub_data[node]['node_idx_new']\n",
    "    pred_proba = model(\n",
    "        sub_data[node]['sub_feat'],\n",
    "        sub_adj\n",
    "    ).squeeze(0)\n",
    "    predictions[node] = int(torch.argmax(pred_proba[new_idx]))"
   ]
  },
  {
   "cell_type": "markdown",
   "metadata": {},
   "source": [
    "## Fidelity"
   ]
  },
  {
   "cell_type": "code",
   "execution_count": 36,
   "metadata": {},
   "outputs": [
    {
     "name": "stdout",
     "output_type": "stream",
     "text": [
      "Fidelity: 0.00\n"
     ]
    }
   ],
   "source": [
    "misclassifications = 0\n",
    "for node in predictions:\n",
    "    if predictions[node] != sub_labels[node]:\n",
    "        misclassifications += 1\n",
    "fidelity = 1 - misclassifications/len(predictions)\n",
    "print(f\"Fidelity: {fidelity:.2f}\")"
   ]
  },
  {
   "cell_type": "markdown",
   "metadata": {},
   "source": [
    "## Per label fidelity"
   ]
  },
  {
   "cell_type": "code",
   "execution_count": 27,
   "metadata": {},
   "outputs": [],
   "source": [
    "per_label_mismatches = defaultdict(int)\n",
    "for node in predictions:\n",
    "    label = sub_labels[node]\n",
    "    if predictions[node] != label:\n",
    "        per_label_mismatches[int(label)] += 1"
   ]
  },
  {
   "cell_type": "code",
   "execution_count": 34,
   "metadata": {},
   "outputs": [],
   "source": [
    "labels, label_counts = torch.Tensor(list(sub_labels.values())).unique(return_counts=True)\n",
    "nodes_per_label = {\n",
    "    int(key):int(val) for key, val in zip(labels, label_counts)\n",
    "}"
   ]
  },
  {
   "cell_type": "code",
   "execution_count": 37,
   "metadata": {},
   "outputs": [
    {
     "name": "stdout",
     "output_type": "stream",
     "text": [
      "Fidelity:\n",
      "Label-3: 0.00\n",
      "\n",
      "Label-1: 0.00\n",
      "\n",
      "Label-2: 0.00\n",
      "\n"
     ]
    }
   ],
   "source": [
    "print(\"Fidelity:\")\n",
    "for label in per_label_mismatches:\n",
    "    print(f\"Label-{label}\", end=\": \")\n",
    "    print(f\"{1 - per_label_mismatches[label]/nodes_per_label[label]:.2f}\")\n",
    "    print()"
   ]
  },
  {
   "cell_type": "code",
   "execution_count": null,
   "metadata": {},
   "outputs": [],
   "source": []
  }
 ],
 "metadata": {
  "kernelspec": {
   "display_name": "Python 3.8.13 ('gem')",
   "language": "python",
   "name": "python3"
  },
  "language_info": {
   "codemirror_mode": {
    "name": "ipython",
    "version": 3
   },
   "file_extension": ".py",
   "mimetype": "text/x-python",
   "name": "python",
   "nbconvert_exporter": "python",
   "pygments_lexer": "ipython3",
   "version": "3.8.13"
  },
  "orig_nbformat": 4,
  "vscode": {
   "interpreter": {
    "hash": "6cbbe528126ce4ff858253ebeac4791d5498c577849f0c2b8ed17d9a06b9b755"
   }
  }
 },
 "nbformat": 4,
 "nbformat_minor": 2
}
