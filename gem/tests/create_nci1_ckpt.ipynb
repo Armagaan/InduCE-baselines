{
 "cells": [
  {
   "cell_type": "markdown",
   "metadata": {},
   "source": [
    "# Create NCI1 ckpt"
   ]
  },
  {
   "cell_type": "code",
   "execution_count": 26,
   "metadata": {},
   "outputs": [],
   "source": [
    "\n",
    "# ! Use \"gnn\" conda environment to run this notebook."
   ]
  },
  {
   "cell_type": "code",
   "execution_count": 27,
   "metadata": {},
   "outputs": [
    {
     "data": {
      "text/plain": [
       "<torch._C.Generator at 0x7f08e8085050>"
      ]
     },
     "execution_count": 27,
     "metadata": {},
     "output_type": "execute_result"
    }
   ],
   "source": [
    "import os\n",
    "import pickle\n",
    "import sys\n",
    "\n",
    "import torch\n",
    "\n",
    "sys.path.append(\"../gnnexp\")\n",
    "from models import GNN_Custom_NCI1\n",
    "from preprocessing_nci1 import NCI1Dataset\n",
    "\n",
    "torch.manual_seed(12345)"
   ]
  },
  {
   "cell_type": "markdown",
   "metadata": {},
   "source": [
    "## Data"
   ]
  },
  {
   "cell_type": "code",
   "execution_count": 28,
   "metadata": {},
   "outputs": [],
   "source": [
    "dataset = NCI1Dataset(\"../data/NCI1\")"
   ]
  },
  {
   "cell_type": "code",
   "execution_count": 29,
   "metadata": {},
   "outputs": [
    {
     "data": {
      "text/plain": [
       "4110"
      ]
     },
     "execution_count": 29,
     "metadata": {},
     "output_type": "execute_result"
    }
   ],
   "source": [
    "len(dataset)"
   ]
  },
  {
   "cell_type": "code",
   "execution_count": 30,
   "metadata": {},
   "outputs": [],
   "source": [
    "with open(\"../data/NCI1/index.pkl\", \"rb\") as file:\n",
    "    indices = pickle.load(file)"
   ]
  },
  {
   "cell_type": "markdown",
   "metadata": {},
   "source": [
    "## Model"
   ]
  },
  {
   "cell_type": "code",
   "execution_count": 31,
   "metadata": {},
   "outputs": [],
   "source": [
    "model = GNN_Custom_NCI1(\n",
    "    in_features=dataset.num_node_features,\n",
    "    h_features=256,\n",
    ")"
   ]
  },
  {
   "cell_type": "code",
   "execution_count": 32,
   "metadata": {},
   "outputs": [
    {
     "data": {
      "text/plain": [
       "GNN_Custom_NCI1(\n",
       "  (conv1): GraphConvolution (37 -> 256)\n",
       "  (conv2): GraphConvolution (256 -> 256)\n",
       "  (conv3): GraphConvolution (256 -> 256)\n",
       "  (dense1): Linear(in_features=256, out_features=16, bias=True)\n",
       "  (dense2): Linear(in_features=16, out_features=8, bias=True)\n",
       "  (dense3): Linear(in_features=8, out_features=2, bias=True)\n",
       ")"
      ]
     },
     "execution_count": 32,
     "metadata": {},
     "output_type": "execute_result"
    }
   ],
   "source": [
    "state_dict = torch.load(\n",
    "    \"../graph_classification_model_weights/NCI1_weights.pt\"\n",
    ")\n",
    "model.load_state_dict(state_dict)\n",
    "model.eval()"
   ]
  },
  {
   "cell_type": "markdown",
   "metadata": {},
   "source": [
    "## Reference: GEM style data"
   ]
  },
  {
   "cell_type": "code",
   "execution_count": 33,
   "metadata": {},
   "outputs": [],
   "source": [
    "ckpt = torch.load(f\"../ckpt/NCI1_base_h20_o20.pth.tar\")"
   ]
  },
  {
   "cell_type": "code",
   "execution_count": 34,
   "metadata": {},
   "outputs": [
    {
     "data": {
      "text/plain": [
       "dict_keys(['epoch', 'model_type', 'optimizer', 'model_state', 'optimizer_state', 'cg'])"
      ]
     },
     "execution_count": 34,
     "metadata": {},
     "output_type": "execute_result"
    }
   ],
   "source": [
    "ckpt.keys()"
   ]
  },
  {
   "cell_type": "code",
   "execution_count": 35,
   "metadata": {},
   "outputs": [
    {
     "data": {
      "text/plain": [
       "dict_keys(['adj', 'feat', 'label', 'gid', 'pred', 'train_idx', 'val_idx', 'test_idx'])"
      ]
     },
     "execution_count": 35,
     "metadata": {},
     "output_type": "execute_result"
    }
   ],
   "source": [
    "ckpt['cg'].keys()"
   ]
  },
  {
   "cell_type": "code",
   "execution_count": 36,
   "metadata": {},
   "outputs": [
    {
     "name": "stdout",
     "output_type": "stream",
     "text": [
      "KEY       : OBJECT                   : TYPE           : SHAPE/LEN\n",
      "\n",
      "adj       : <class 'torch.Tensor'>   : torch.float64  : torch.Size([4103, 100, 100])\n",
      "feat      : <class 'torch.Tensor'>   : torch.float64  : torch.Size([4103, 100, 37])\n",
      "label     : <class 'torch.Tensor'>   : torch.int32    : torch.Size([4103])\n",
      "gid       : <class 'torch.Tensor'>   : torch.int64    : torch.Size([4103])\n",
      "pred      : <class 'numpy.ndarray'>  : float64        : (1, 4103, 2)\n",
      "train_idx : <class 'list'>           : <class 'int'>  : 3282\n",
      "val_idx   : <class 'list'>           : <class 'int'>  : 410\n",
      "test_idx  : <class 'list'>           : <class 'int'>  : 411\n"
     ]
    }
   ],
   "source": [
    "print(f'{\"KEY\":<10}: {\"OBJECT\":<25}: {\"TYPE\":<15}: SHAPE/LEN\\n')\n",
    "for key, val in ckpt['cg'].items():\n",
    "    try:\n",
    "        print(f\"{key:<10}: {str(type(val)):<25}: {str(val.dtype):<15}: {val.shape}\")\n",
    "    except: # object doesn't have method named \"shape\"\n",
    "        print(f\"{key:<10}: {str(type(val)):<25}: {str(type(val[0])):<15}: {len(val)}\")"
   ]
  },
  {
   "cell_type": "markdown",
   "metadata": {},
   "source": [
    "## CKPT"
   ]
  },
  {
   "cell_type": "code",
   "execution_count": 37,
   "metadata": {},
   "outputs": [],
   "source": [
    "# MAX_ADJ_SIZE = max([\n",
    "#     graph.edge_index[0].unique().size(0)\n",
    "#     for graph in dataset\n",
    "# ])\n",
    "# print(MAX_ADJ_SIZE)\n",
    "MAX_ADJ_SIZE = 100 # The authors of GEM have hard coded this."
   ]
  },
  {
   "cell_type": "code",
   "execution_count": 38,
   "metadata": {},
   "outputs": [
    {
     "name": "stdout",
     "output_type": "stream",
     "text": [
      "Skipped 1676\n",
      "Skipped 1862\n",
      "Skipped 1893\n",
      "Skipped 2171\n",
      "Skipped 3138\n",
      "Skipped 3584\n",
      "Skipped 3699\n"
     ]
    }
   ],
   "source": [
    "adjacencies = list()\n",
    "features = list()\n",
    "labels = list()\n",
    "preds = list()\n",
    "g_ids = list()\n",
    "skipped_graphs = list()\n",
    "\n",
    "for g_id, graph in enumerate(dataset):\n",
    "    if graph.edge_index[0].unique().size(0) > MAX_ADJ_SIZE:\n",
    "        print(f\"Skipped {g_id}\")\n",
    "        skipped_graphs.append(g_id)\n",
    "        continue\n",
    "    adj = torch.zeros(\n",
    "        size=(MAX_ADJ_SIZE, MAX_ADJ_SIZE)\n",
    "    ).float()\n",
    "    rows = graph.edge_index[0]\n",
    "    cols = graph.edge_index[1]\n",
    "    for row, col in zip(rows, cols):\n",
    "        adj[int(row), int(col)] = 1.0\n",
    "    \n",
    "    feat = graph.x.float()\n",
    "    feat_size = feat.size(0)\n",
    "    extra_size = MAX_ADJ_SIZE - feat_size\n",
    "    feat_extra = torch.zeros(\n",
    "        size=(extra_size, dataset.num_node_features)\n",
    "    ).float()\n",
    "    feat = torch.cat((feat, feat_extra), dim=0)\n",
    "\n",
    "    label = graph.y.long()\n",
    "    pred = model(feat, adj)\n",
    "\n",
    "    adjacencies.append(adj)\n",
    "    features.append(feat)\n",
    "    labels.append(label)\n",
    "    preds.append(pred)\n",
    "    g_ids.append(g_id)\n",
    "\n",
    "adjacencies = torch.stack(adjacencies)\n",
    "features = torch.stack(features)\n",
    "labels = torch.Tensor(labels).long()\n",
    "preds = torch.stack(preds).detach().unsqueeze(0).numpy()\n",
    "g_ids = torch.Tensor(g_ids).long()"
   ]
  },
  {
   "cell_type": "code",
   "execution_count": 39,
   "metadata": {},
   "outputs": [
    {
     "name": "stdout",
     "output_type": "stream",
     "text": [
      "Accuracy: 62.76 %\n"
     ]
    }
   ],
   "source": [
    "acc = 100 * (labels.numpy() == preds.argmax(axis=-1)).sum() / len(labels)\n",
    "print(f\"Accuracy: {acc:.2f} %\")"
   ]
  },
  {
   "cell_type": "code",
   "execution_count": 40,
   "metadata": {},
   "outputs": [],
   "source": [
    "cg_dict = {\n",
    "    'adj': adjacencies,\n",
    "    'feat': features,\n",
    "    'label': labels,\n",
    "    'pred': preds,\n",
    "    'gid': g_ids,\n",
    "}"
   ]
  },
  {
   "cell_type": "code",
   "execution_count": 41,
   "metadata": {},
   "outputs": [
    {
     "name": "stdout",
     "output_type": "stream",
     "text": [
      "KEY       : OBJECT                   : TYPE           : SHAPE/LEN\n",
      "\n",
      "adj       : <class 'torch.Tensor'>   : torch.float32  : torch.Size([4103, 100, 100])\n",
      "feat      : <class 'torch.Tensor'>   : torch.float32  : torch.Size([4103, 100, 37])\n",
      "label     : <class 'torch.Tensor'>   : torch.int64    : torch.Size([4103])\n",
      "pred      : <class 'numpy.ndarray'>  : float32        : (1, 4103, 2)\n",
      "gid       : <class 'torch.Tensor'>   : torch.int64    : torch.Size([4103])\n"
     ]
    }
   ],
   "source": [
    "print(f'{\"KEY\":<10}: {\"OBJECT\":<25}: {\"TYPE\":<15}: SHAPE/LEN\\n')\n",
    "for key, val in cg_dict.items():\n",
    "    try:\n",
    "        print(f\"{key:<10}: {str(type(val)):<25}: {str(val.dtype):<15}: {val.shape}\")\n",
    "    except: # object doesn't have method named \"shape\"\n",
    "        print(f\"{key:<10}: {str(type(val)):<25}: {str(type(val[0])):<15}: {len(val)}\")"
   ]
  },
  {
   "cell_type": "markdown",
   "metadata": {},
   "source": [
    "## Save"
   ]
  },
  {
   "cell_type": "code",
   "execution_count": 42,
   "metadata": {},
   "outputs": [],
   "source": [
    "new_ckpt = dict()\n",
    "new_ckpt['model_state'] = model.state_dict()\n",
    "new_ckpt['cg'] = cg_dict.copy()"
   ]
  },
  {
   "cell_type": "code",
   "execution_count": 43,
   "metadata": {},
   "outputs": [
    {
     "data": {
      "text/plain": [
       "[1676, 1862, 1893, 2171, 3138, 3584, 3699]"
      ]
     },
     "execution_count": 43,
     "metadata": {},
     "output_type": "execute_result"
    }
   ],
   "source": [
    "skipped_graphs"
   ]
  },
  {
   "cell_type": "code",
   "execution_count": 44,
   "metadata": {},
   "outputs": [
    {
     "name": "stdout",
     "output_type": "stream",
     "text": [
      "Skipped 4103\n",
      "Skipped 3138\n",
      "Skipped 4109\n",
      "Skipped 4105\n",
      "Skipped 4106\n",
      "Skipped 4105\n",
      "Skipped 1862\n",
      "Skipped 4107\n",
      "Skipped 1676\n",
      "Skipped 4108\n",
      "Skipped 2171\n",
      "Skipped 4104\n",
      "Skipped 3584\n",
      "Skipped 3699\n",
      "Skipped 1893\n"
     ]
    }
   ],
   "source": [
    "train_set_1 = list()\n",
    "val_set_1 = list()\n",
    "test_set_1 = list()\n",
    "\n",
    "for set_ in ['train', 'val', 'test']:\n",
    "    for idx in indices[f\"idx_{set_}\"]:\n",
    "        if idx in skipped_graphs or idx >= len(new_ckpt['cg']['label']):\n",
    "            print(f\"Skipped {idx}\")\n",
    "            continue\n",
    "        label = new_ckpt['cg']['label'][idx]\n",
    "        pred = new_ckpt['cg']['pred'][0][idx].argmax(axis=-1)\n",
    "        if label == pred == 1:\n",
    "            eval(f\"{set_}_set_1.append(int(idx))\")\n",
    "\n",
    "train_set_1 = list(set(train_set_1))\n",
    "val_set_1 = list(set(val_set_1))\n",
    "test_set_1 = list(set(test_set_1))"
   ]
  },
  {
   "cell_type": "markdown",
   "metadata": {},
   "source": [
    "### Eval set as part of training set"
   ]
  },
  {
   "cell_type": "code",
   "execution_count": 45,
   "metadata": {},
   "outputs": [],
   "source": [
    "new_ckpt['cg']['train_idx'] = train_set_1 + test_set_1\n",
    "new_ckpt['cg']['val_idx'] = val_set_1\n",
    "new_ckpt['cg']['test_idx'] = test_set_1"
   ]
  },
  {
   "cell_type": "code",
   "execution_count": 46,
   "metadata": {},
   "outputs": [],
   "source": [
    "os.makedirs(\"../ckpt\", exist_ok=True)\n",
    "torch.save(new_ckpt, f\"../ckpt/NCI1_eval_as_train.pt\")"
   ]
  },
  {
   "cell_type": "markdown",
   "metadata": {},
   "source": [
    "### Eval set as test set"
   ]
  },
  {
   "cell_type": "code",
   "execution_count": 47,
   "metadata": {},
   "outputs": [],
   "source": [
    "new_ckpt['cg']['train_idx'] = train_set_1\n",
    "new_ckpt['cg']['val_idx'] = val_set_1\n",
    "new_ckpt['cg']['test_idx'] = test_set_1"
   ]
  },
  {
   "cell_type": "code",
   "execution_count": 48,
   "metadata": {},
   "outputs": [],
   "source": [
    "os.makedirs(\"../ckpt\", exist_ok=True)\n",
    "torch.save(new_ckpt, f\"../ckpt/NCI1_eval_as_eval.pt\")"
   ]
  },
  {
   "cell_type": "markdown",
   "metadata": {},
   "source": [
    "## Rough"
   ]
  },
  {
   "cell_type": "code",
   "execution_count": 49,
   "metadata": {},
   "outputs": [
    {
     "name": "stdout",
     "output_type": "stream",
     "text": [
      "Accuracy: 62.76 %\n"
     ]
    }
   ],
   "source": [
    "correct = 0\n",
    "for graph_idx in range(new_ckpt['cg']['adj'].shape[0]):\n",
    "    feat = new_ckpt['cg']['feat'][graph_idx, :].float().unsqueeze(0)\n",
    "    adj = new_ckpt['cg']['adj'][graph_idx].float().unsqueeze(0)\n",
    "    label = new_ckpt['cg']['label'][graph_idx].long().unsqueeze(0)\n",
    "    pred = model(feat, adj).argmax(dim=-1)\n",
    "    if label == pred:\n",
    "        correct += 1\n",
    "acc = 100 * correct/new_ckpt['cg']['adj'].shape[0]\n",
    "print(f\"Accuracy: {acc:.2f} %\")"
   ]
  },
  {
   "cell_type": "code",
   "execution_count": 50,
   "metadata": {},
   "outputs": [
    {
     "name": "stdout",
     "output_type": "stream",
     "text": [
      "229 62 295\n"
     ]
    }
   ],
   "source": [
    "print(len(train_set_1), len(val_set_1), len(test_set_1))"
   ]
  },
  {
   "cell_type": "code",
   "execution_count": null,
   "metadata": {},
   "outputs": [],
   "source": []
  }
 ],
 "metadata": {
  "kernelspec": {
   "display_name": "Python 3.9.12 ('gnn')",
   "language": "python",
   "name": "python3"
  },
  "language_info": {
   "codemirror_mode": {
    "name": "ipython",
    "version": 3
   },
   "file_extension": ".py",
   "mimetype": "text/x-python",
   "name": "python",
   "nbconvert_exporter": "python",
   "pygments_lexer": "ipython3",
   "version": "3.9.12"
  },
  "orig_nbformat": 4,
  "vscode": {
   "interpreter": {
    "hash": "68c408a09fc6b9af4d557fa69fd931fc5c0935ab87f3b3ea2b2f71f9a639c9ba"
   }
  }
 },
 "nbformat": 4,
 "nbformat_minor": 2
}
